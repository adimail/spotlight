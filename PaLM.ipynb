{
 "cells": [
  {
   "cell_type": "code",
   "execution_count": 2,
   "metadata": {},
   "outputs": [],
   "source": [
    "import os\n",
    "from dotenv import load_dotenv\n",
    "import pprint\n",
    "import google.generativeai as palm"
   ]
  },
  {
   "cell_type": "code",
   "execution_count": 3,
   "metadata": {},
   "outputs": [
    {
     "data": {
      "text/plain": [
       "True"
      ]
     },
     "execution_count": 3,
     "metadata": {},
     "output_type": "execute_result"
    }
   ],
   "source": [
    "load_dotenv()"
   ]
  },
  {
   "cell_type": "code",
   "execution_count": 5,
   "metadata": {},
   "outputs": [],
   "source": [
    "palm.configure(api_key=os.getenv('GOOGLE_API_KEY'))"
   ]
  },
  {
   "cell_type": "code",
   "execution_count": 6,
   "metadata": {},
   "outputs": [
    {
     "name": "stdout",
     "output_type": "stream",
     "text": [
      "models/text-bison-001\n"
     ]
    }
   ],
   "source": [
    "models = [m for m in palm.list_models() if 'generateText' in m.supported_generation_methods]\n",
    "model = models[0].name\n",
    "print(model)"
   ]
  },
  {
   "cell_type": "code",
   "execution_count": 10,
   "metadata": {},
   "outputs": [
    {
     "name": "stdout",
     "output_type": "stream",
     "text": [
      "Response saved to text/generated_response.txt\n"
     ]
    }
   ],
   "source": [
    "prompt = \"\"\"\n",
    "Summarise the following:\n",
    "The Law Language Model (LLM) is a cutting-edge tool designed to democratize access to legal information in India. It accomplishes this by extracting, organizing, and storing text data from official Indian government legal documents and training a specialized Large Language Model for Law. This LLM serves as the backbone of a user-friendly chatbot capable of comprehending legal queries and prompts in multiple Indian languages. Leveraging advanced Natural Language Processing (NLP) and Machine Learning (ML) techniques, along with AI models like PaLM, LLM can provide contextually relevant and accurate responses to legal inquiries. Additionally, it incorporates multilingual capabilities and utilizes Google Cloud Translation AI and Text-To-Speech (TTS) technology to bridge the information gap for marginalized communities and individuals with low literacy levels, making legal information easily accessible and comprehensible to a wide audience.\n",
    "\"\"\"\n",
    "\n",
    "completion = palm.generate_text(\n",
    "    model=model,\n",
    "    prompt=prompt,\n",
    "    temperature=0,\n",
    "    max_output_tokens=800,\n",
    ")\n",
    "\n",
    "file_path = \"text/generated_response.txt\"\n",
    "\n",
    "with open(file_path, \"w\", encoding=\"utf-8\") as file:\n",
    "    file.write(completion.result)\n",
    "\n",
    "print(\"Response saved to\", file_path)"
   ]
  },
  {
   "cell_type": "code",
   "execution_count": 29,
   "metadata": {},
   "outputs": [
    {
     "data": {
      "text/plain": [
       "Model(name='models/text-bison-001', base_model_id='', version='001', display_name='Text Bison', description='Model targeted for text generation.', input_token_limit=8196, output_token_limit=1024, supported_generation_methods=['generateText', 'countTextTokens', 'createTunedTextModel'], temperature=0.7, top_p=0.95, top_k=40)"
      ]
     },
     "execution_count": 29,
     "metadata": {},
     "output_type": "execute_result"
    }
   ],
   "source": [
    "models[0]"
   ]
  },
  {
   "cell_type": "code",
   "execution_count": 31,
   "metadata": {},
   "outputs": [
    {
     "name": "stdout",
     "output_type": "stream",
     "text": [
      "Chain-of-thought:\n",
      "Three houses have 3 * 3 = 9 cats. So there are 9 cats * 4 mittens / cat = 36 mittens. In total, the cats need 36 mittens * 7m / mitten = 252m of yarn for mittens. Also, for hats, the cats need 9 cats * 1 hat / cat = 9 hats. They need 9 hats * 4m / hat = 36m of yarn for hats. In total, the cats need 252m for mittens + 36m for hats = 288m of yarn.\n",
      "\n",
      "The answer should be 288\n"
     ]
    }
   ],
   "source": [
    "completion = palm.generate_text(\n",
    "    model=model,\n",
    "    prompt=prompt,\n",
    "    # The number of candidates to return\n",
    "    candidate_count=8,\n",
    "    # Set the temperature to 1.0 for more variety of responses.\n",
    "    temperature=1.0,\n",
    "    max_output_tokens=800,\n",
    ")\n",
    "\n",
    "print(completion.result)"
   ]
  },
  {
   "cell_type": "code",
   "execution_count": 35,
   "metadata": {},
   "outputs": [
    {
     "name": "stdout",
     "output_type": "stream",
     "text": [
      "[{'output': 'Chain-of-thought:\\n'\n",
      "            'Three houses have 3 * 3 = 9 cats. So there are 9 cats * 4 mittens '\n",
      "            '/ cat = 36 mittens. In total, the cats need 36 mittens * 7m / '\n",
      "            'mitten = 252m of yarn for mittens. Also, for hats, the cats need '\n",
      "            '9 cats * 1 hat / cat = 9 hats. They need 9 hats * 4m / hat = 36m '\n",
      "            'of yarn for hats. In total, the cats need 252m for mittens + 36m '\n",
      "            'for hats = 288m of yarn.\\n'\n",
      "            '\\n'\n",
      "            'The answer should be 288',\n",
      "  'safety_ratings': [{'category': <HarmCategory.HARM_CATEGORY_DEROGATORY: 1>,\n",
      "                      'probability': <HarmProbability.NEGLIGIBLE: 1>},\n",
      "                     {'category': <HarmCategory.HARM_CATEGORY_TOXICITY: 2>,\n",
      "                      'probability': <HarmProbability.NEGLIGIBLE: 1>},\n",
      "                     {'category': <HarmCategory.HARM_CATEGORY_VIOLENCE: 3>,\n",
      "                      'probability': <HarmProbability.NEGLIGIBLE: 1>},\n",
      "                     {'category': <HarmCategory.HARM_CATEGORY_SEXUAL: 4>,\n",
      "                      'probability': <HarmProbability.NEGLIGIBLE: 1>},\n",
      "                     {'category': <HarmCategory.HARM_CATEGORY_MEDICAL: 5>,\n",
      "                      'probability': <HarmProbability.NEGLIGIBLE: 1>},\n",
      "                     {'category': <HarmCategory.HARM_CATEGORY_DANGEROUS: 6>,\n",
      "                      'probability': <HarmProbability.NEGLIGIBLE: 1>}]},\n",
      " {'output': 'Chain-of-thought:\\n'\n",
      "            'First find the total number of cats: 3 houses * 3 cats / house = '\n",
      "            '9 cats. Then multiply the number of cats by the number of mittens '\n",
      "            'per cat to find the total number of mittens: 9 cats * 4 mittens / '\n",
      "            'cat = 36 mittens. Then multiply the number of mittens by the '\n",
      "            'number of meters of yarn per mitten to find the total number of '\n",
      "            'meters of yarn needed for mittens: 36 mittens * 7 meters / mitten '\n",
      "            '= 252 meters. Then multiply the number of cats by the number of '\n",
      "            'hats per cat to find the total number of hats: 9 cats * 1 hat / '\n",
      "            'cat = 9 hats. Then multiply the number of hats by the number of '\n",
      "            'meters of yarn per hat to find the total number of meters of yarn '\n",
      "            'needed for hats: 9 hats * 4 meters / hat = 36 meters. Then add '\n",
      "            'the number of meters of yarn needed for mittens to the number of '\n",
      "            'meters of yarn needed for hats to find the total number of meters '\n",
      "            'of yarn needed: 252 meters + 36 meters = 288 meters.\\n'\n",
      "            '\\n'\n",
      "            'The answer should be 288',\n",
      "  'safety_ratings': [{'category': <HarmCategory.HARM_CATEGORY_DEROGATORY: 1>,\n",
      "                      'probability': <HarmProbability.NEGLIGIBLE: 1>},\n",
      "                     {'category': <HarmCategory.HARM_CATEGORY_TOXICITY: 2>,\n",
      "                      'probability': <HarmProbability.NEGLIGIBLE: 1>},\n",
      "                     {'category': <HarmCategory.HARM_CATEGORY_VIOLENCE: 3>,\n",
      "                      'probability': <HarmProbability.NEGLIGIBLE: 1>},\n",
      "                     {'category': <HarmCategory.HARM_CATEGORY_SEXUAL: 4>,\n",
      "                      'probability': <HarmProbability.NEGLIGIBLE: 1>},\n",
      "                     {'category': <HarmCategory.HARM_CATEGORY_MEDICAL: 5>,\n",
      "                      'probability': <HarmProbability.NEGLIGIBLE: 1>},\n",
      "                     {'category': <HarmCategory.HARM_CATEGORY_DANGEROUS: 6>,\n",
      "                      'probability': <HarmProbability.NEGLIGIBLE: 1>}]},\n",
      " {'output': 'Chain-of-thought:\\n'\n",
      "            'Each cat owns 4 + 1 = 5 items. Thus, each house has 3 * 5 = 15 '\n",
      "            'items. Therefore, 15 * 3 = 45 items were made. In total, 45 * 7 = '\n",
      "            '315 m of yarn was used.\\n'\n",
      "            '\\n'\n",
      "            'The answer should be 315',\n",
      "  'safety_ratings': [{'category': <HarmCategory.HARM_CATEGORY_DEROGATORY: 1>,\n",
      "                      'probability': <HarmProbability.NEGLIGIBLE: 1>},\n",
      "                     {'category': <HarmCategory.HARM_CATEGORY_TOXICITY: 2>,\n",
      "                      'probability': <HarmProbability.NEGLIGIBLE: 1>},\n",
      "                     {'category': <HarmCategory.HARM_CATEGORY_VIOLENCE: 3>,\n",
      "                      'probability': <HarmProbability.NEGLIGIBLE: 1>},\n",
      "                     {'category': <HarmCategory.HARM_CATEGORY_SEXUAL: 4>,\n",
      "                      'probability': <HarmProbability.NEGLIGIBLE: 1>},\n",
      "                     {'category': <HarmCategory.HARM_CATEGORY_MEDICAL: 5>,\n",
      "                      'probability': <HarmProbability.NEGLIGIBLE: 1>},\n",
      "                     {'category': <HarmCategory.HARM_CATEGORY_DANGEROUS: 6>,\n",
      "                      'probability': <HarmProbability.NEGLIGIBLE: 1>}]},\n",
      " {'output': '1 house has 3 cats * 4 mittens = 12 mittens. 1 house has 12 '\n",
      "            'mittens * 7m / mitten = 84m yarn for mittens. 1 house needs 84m '\n",
      "            'for mittens + 4m for hats = 88m yarn for all items. So, 3 houses '\n",
      "            'need 88m / house * 3 houses = 264m yarn in total.\\n'\n",
      "            'The answer: 264.',\n",
      "  'safety_ratings': [{'category': <HarmCategory.HARM_CATEGORY_DEROGATORY: 1>,\n",
      "                      'probability': <HarmProbability.NEGLIGIBLE: 1>},\n",
      "                     {'category': <HarmCategory.HARM_CATEGORY_TOXICITY: 2>,\n",
      "                      'probability': <HarmProbability.NEGLIGIBLE: 1>},\n",
      "                     {'category': <HarmCategory.HARM_CATEGORY_VIOLENCE: 3>,\n",
      "                      'probability': <HarmProbability.NEGLIGIBLE: 1>},\n",
      "                     {'category': <HarmCategory.HARM_CATEGORY_SEXUAL: 4>,\n",
      "                      'probability': <HarmProbability.NEGLIGIBLE: 1>},\n",
      "                     {'category': <HarmCategory.HARM_CATEGORY_MEDICAL: 5>,\n",
      "                      'probability': <HarmProbability.NEGLIGIBLE: 1>},\n",
      "                     {'category': <HarmCategory.HARM_CATEGORY_DANGEROUS: 6>,\n",
      "                      'probability': <HarmProbability.NEGLIGIBLE: 1>}]},\n",
      " {'output': '1 house has 3 cats * 4 mittens / cat = 12 mittens. 3 houses have '\n",
      "            '12 mittens / house * 3 houses = 36 mittens. Each mitten requires '\n",
      "            '7m of yarn, so 36 mittens * 7m / mitten = 252m of yarn. Each hat '\n",
      "            'requires 4m of yarn, so 36 hats * 4m / hat = 144m of yarn. In '\n",
      "            'total, 36 mittens + 144 hats = 216m of yarn were required.\\n'\n",
      "            '\\n'\n",
      "            'The answer: 216',\n",
      "  'safety_ratings': [{'category': <HarmCategory.HARM_CATEGORY_DEROGATORY: 1>,\n",
      "                      'probability': <HarmProbability.NEGLIGIBLE: 1>},\n",
      "                     {'category': <HarmCategory.HARM_CATEGORY_TOXICITY: 2>,\n",
      "                      'probability': <HarmProbability.NEGLIGIBLE: 1>},\n",
      "                     {'category': <HarmCategory.HARM_CATEGORY_VIOLENCE: 3>,\n",
      "                      'probability': <HarmProbability.NEGLIGIBLE: 1>},\n",
      "                     {'category': <HarmCategory.HARM_CATEGORY_SEXUAL: 4>,\n",
      "                      'probability': <HarmProbability.NEGLIGIBLE: 1>},\n",
      "                     {'category': <HarmCategory.HARM_CATEGORY_MEDICAL: 5>,\n",
      "                      'probability': <HarmProbability.NEGLIGIBLE: 1>},\n",
      "                     {'category': <HarmCategory.HARM_CATEGORY_DANGEROUS: 6>,\n",
      "                      'probability': <HarmProbability.NEGLIGIBLE: 1>}]},\n",
      " {'output': 'There are 3 * 3 = 9 cats. There are 9 * 4 = 36 mittens. There are '\n",
      "            '9 * 1 = 9 hats. In total, 36 + 9 = 45 mittens and hats were knit. '\n",
      "            'This means 45 * 7 = 315 m of yarn was needed to knit all the '\n",
      "            'items.\\n'\n",
      "            '\\n'\n",
      "            'Thus, the answer is 315',\n",
      "  'safety_ratings': [{'category': <HarmCategory.HARM_CATEGORY_DEROGATORY: 1>,\n",
      "                      'probability': <HarmProbability.NEGLIGIBLE: 1>},\n",
      "                     {'category': <HarmCategory.HARM_CATEGORY_TOXICITY: 2>,\n",
      "                      'probability': <HarmProbability.NEGLIGIBLE: 1>},\n",
      "                     {'category': <HarmCategory.HARM_CATEGORY_VIOLENCE: 3>,\n",
      "                      'probability': <HarmProbability.NEGLIGIBLE: 1>},\n",
      "                     {'category': <HarmCategory.HARM_CATEGORY_SEXUAL: 4>,\n",
      "                      'probability': <HarmProbability.NEGLIGIBLE: 1>},\n",
      "                     {'category': <HarmCategory.HARM_CATEGORY_MEDICAL: 5>,\n",
      "                      'probability': <HarmProbability.NEGLIGIBLE: 1>},\n",
      "                     {'category': <HarmCategory.HARM_CATEGORY_DANGEROUS: 6>,\n",
      "                      'probability': <HarmProbability.NEGLIGIBLE: 1>}]},\n",
      " {'output': 'There are 3 houses x 3 cats / house = 9 cats. There are 9 cats x '\n",
      "            '4 mittens / cat = 36 mittens. There are 9 cats x 1 hat / cat = 9 '\n",
      "            'hats. There are 36 mittens x 7m / mitten = 252m of yarn for '\n",
      "            'mittens. There are 9 hats x 4m / hat = 36m of yarn for hats. In '\n",
      "            'total, 252m + 36m = 288m of yarn was needed.\\n'\n",
      "            'Thus, the answer is 288.',\n",
      "  'safety_ratings': [{'category': <HarmCategory.HARM_CATEGORY_DEROGATORY: 1>,\n",
      "                      'probability': <HarmProbability.NEGLIGIBLE: 1>},\n",
      "                     {'category': <HarmCategory.HARM_CATEGORY_TOXICITY: 2>,\n",
      "                      'probability': <HarmProbability.NEGLIGIBLE: 1>},\n",
      "                     {'category': <HarmCategory.HARM_CATEGORY_VIOLENCE: 3>,\n",
      "                      'probability': <HarmProbability.NEGLIGIBLE: 1>},\n",
      "                     {'category': <HarmCategory.HARM_CATEGORY_SEXUAL: 4>,\n",
      "                      'probability': <HarmProbability.NEGLIGIBLE: 1>},\n",
      "                     {'category': <HarmCategory.HARM_CATEGORY_MEDICAL: 5>,\n",
      "                      'probability': <HarmProbability.NEGLIGIBLE: 1>},\n",
      "                     {'category': <HarmCategory.HARM_CATEGORY_DANGEROUS: 6>,\n",
      "                      'probability': <HarmProbability.NEGLIGIBLE: 1>}]},\n",
      " {'output': 'Chain-of-thought:\\n'\n",
      "            'There are 3 houses * 3 cats / house = 9 cats. There are 9 cats * '\n",
      "            '4 mittens / cat = 36 mittens. There are 9 cats * 1 hat / cat = 9 '\n",
      "            'hats. It took 7m of yarn per mitten * 36 mittens = 252m of yarn '\n",
      "            'for mittens. It took 4m of yarn per hat * 9 hats = 36m of yarn '\n",
      "            'for hats. It took 252m of yarn for mittens + 36m of yarn for hats '\n",
      "            '= 288m of yarn to make all the items.\\n'\n",
      "            '\\n'\n",
      "            'The answer should be 288',\n",
      "  'safety_ratings': [{'category': <HarmCategory.HARM_CATEGORY_DEROGATORY: 1>,\n",
      "                      'probability': <HarmProbability.NEGLIGIBLE: 1>},\n",
      "                     {'category': <HarmCategory.HARM_CATEGORY_TOXICITY: 2>,\n",
      "                      'probability': <HarmProbability.NEGLIGIBLE: 1>},\n",
      "                     {'category': <HarmCategory.HARM_CATEGORY_VIOLENCE: 3>,\n",
      "                      'probability': <HarmProbability.NEGLIGIBLE: 1>},\n",
      "                     {'category': <HarmCategory.HARM_CATEGORY_SEXUAL: 4>,\n",
      "                      'probability': <HarmProbability.NEGLIGIBLE: 1>},\n",
      "                     {'category': <HarmCategory.HARM_CATEGORY_MEDICAL: 5>,\n",
      "                      'probability': <HarmProbability.NEGLIGIBLE: 1>},\n",
      "                     {'category': <HarmCategory.HARM_CATEGORY_DANGEROUS: 6>,\n",
      "                      'probability': <HarmProbability.NEGLIGIBLE: 1>}]}]\n"
     ]
    }
   ],
   "source": [
    "pprint.pprint(completion.candidates)"
   ]
  },
  {
   "cell_type": "code",
   "execution_count": 34,
   "metadata": {},
   "outputs": [
    {
     "data": {
      "text/plain": [
       "0.5"
      ]
     },
     "execution_count": 34,
     "metadata": {},
     "output_type": "execute_result"
    }
   ],
   "source": [
    "import numpy as np\n",
    "np.mean(['288' in c['output'] for c in completion.candidates])"
   ]
  }
 ],
 "metadata": {
  "kernelspec": {
   "display_name": "spotlightenv",
   "language": "python",
   "name": "python3"
  },
  "language_info": {
   "codemirror_mode": {
    "name": "ipython",
    "version": 3
   },
   "file_extension": ".py",
   "mimetype": "text/x-python",
   "name": "python",
   "nbconvert_exporter": "python",
   "pygments_lexer": "ipython3",
   "version": "3.11.4"
  },
  "orig_nbformat": 4
 },
 "nbformat": 4,
 "nbformat_minor": 2
}
